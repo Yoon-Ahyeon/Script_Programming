{
 "cells": [
  {
   "cell_type": "code",
   "execution_count": 17,
   "id": "74c4df2f",
   "metadata": {},
   "outputs": [
    {
     "name": "stdout",
     "output_type": "stream",
     "text": [
      "Python Hello\n"
     ]
    }
   ],
   "source": [
    "a = \"Hello Python\"\n",
    "a = a[6:12] + \" \" + a[0:5]\n",
    "print(a)"
   ]
  },
  {
   "cell_type": "markdown",
   "id": "581d4868",
   "metadata": {},
   "source": [
    "\"Hello\"는 인덱스 0부터 4까지의 문자열이고 \"Python\"은 인덱스 6부터 11까지의 문자열이다.\n",
    "문자열 슬라이싱을 활용하여 Python을 앞으로 배치하고 Hello를 뒤로 배치한 뒤 연결연산자 '+'를 사용해 문자열을 연결해준다.\n",
    "중간에 \" \" 을 사용하여 한 칸을 띄워준다."
   ]
  },
  {
   "cell_type": "code",
   "execution_count": 39,
   "id": "f5d5434e",
   "metadata": {},
   "outputs": [
    {
     "name": "stdout",
     "output_type": "stream",
     "text": [
      "World Python Hello\n"
     ]
    }
   ],
   "source": [
    "b = \"Hello Python World\"\n",
    "b = b[13:18] + b[5:13] + b[0:5]\n",
    "print(b)"
   ]
  },
  {
   "cell_type": "markdown",
   "id": "f362032c",
   "metadata": {},
   "source": [
    "변수 b에 문자열 \"Hello Python World\"를 저장한다.\n",
    "\"Hello\"는 인덱스 0부터 4까지의 문자열, \" Python \"은 (띄어쓰기 포함) 인덱스 5부터 12까지의 문자열이고 \"World\"는 13부터 18까지의 문자열이다.\n",
    "문자열 슬라이싱을 활용하여 새롭게 배치된 문자열을 b에다 저장한다."
   ]
  },
  {
   "cell_type": "code",
   "execution_count": 8,
   "id": "512be846",
   "metadata": {},
   "outputs": [
    {
     "name": "stdout",
     "output_type": "stream",
     "text": [
      "elloH\n"
     ]
    }
   ],
   "source": [
    "c = \"Hello\"\n",
    "c = c[1:5] + c[:1]\n",
    "print(c)"
   ]
  },
  {
   "cell_type": "markdown",
   "id": "97a6be8d",
   "metadata": {},
   "source": [
    "변수 c에 문자열 \"Hello\"를 저장한다.\n",
    "\"ello\"는 인덱스 1부터 4까지의 문자열이고 \"H\" 시작 문자열이다.\n",
    "문자열 슬라이싱을 활용하여 c에다 다시 저장하는데 여기서 \"H\"는 c[:1]로 저장한다. ([start : 1] 은 0번째 문자열만 출력하게 됨.)"
   ]
  },
  {
   "cell_type": "code",
   "execution_count": 44,
   "id": "253e150f",
   "metadata": {},
   "outputs": [
    {
     "name": "stdout",
     "output_type": "stream",
     "text": [
      "p p p\n"
     ]
    },
    {
     "ename": "IndexError",
     "evalue": "string index out of range",
     "output_type": "error",
     "traceback": [
      "\u001b[1;31m---------------------------------------------------------------------------\u001b[0m",
      "\u001b[1;31mIndexError\u001b[0m                                Traceback (most recent call last)",
      "\u001b[1;32m<ipython-input-44-144196f55977>\u001b[0m in \u001b[0;36m<module>\u001b[1;34m\u001b[0m\n\u001b[0;32m      1\u001b[0m \u001b[0ms\u001b[0m \u001b[1;33m=\u001b[0m \u001b[1;34m\"python\"\u001b[0m\u001b[1;33m\u001b[0m\u001b[1;33m\u001b[0m\u001b[0m\n\u001b[0;32m      2\u001b[0m \u001b[0mprint\u001b[0m\u001b[1;33m(\u001b[0m\u001b[0ms\u001b[0m\u001b[1;33m[\u001b[0m\u001b[1;36m0\u001b[0m\u001b[1;33m]\u001b[0m\u001b[1;33m,\u001b[0m \u001b[0ms\u001b[0m\u001b[1;33m[\u001b[0m\u001b[1;36m0\u001b[0m\u001b[1;33m]\u001b[0m\u001b[1;33m[\u001b[0m\u001b[1;36m0\u001b[0m\u001b[1;33m]\u001b[0m\u001b[1;33m,\u001b[0m \u001b[0ms\u001b[0m\u001b[1;33m[\u001b[0m\u001b[1;36m0\u001b[0m\u001b[1;33m]\u001b[0m\u001b[1;33m[\u001b[0m\u001b[1;36m0\u001b[0m\u001b[1;33m]\u001b[0m\u001b[1;33m[\u001b[0m\u001b[1;36m0\u001b[0m\u001b[1;33m]\u001b[0m\u001b[1;33m)\u001b[0m\u001b[1;33m\u001b[0m\u001b[1;33m\u001b[0m\u001b[0m\n\u001b[1;32m----> 3\u001b[1;33m \u001b[0mprint\u001b[0m\u001b[1;33m(\u001b[0m\u001b[0ms\u001b[0m\u001b[1;33m[\u001b[0m\u001b[1;33m-\u001b[0m\u001b[1;36m100\u001b[0m\u001b[1;33m]\u001b[0m\u001b[1;33m,\u001b[0m \u001b[0ms\u001b[0m\u001b[1;33m[\u001b[0m\u001b[1;36m100\u001b[0m\u001b[1;33m]\u001b[0m\u001b[1;33m)\u001b[0m\u001b[1;33m\u001b[0m\u001b[1;33m\u001b[0m\u001b[0m\n\u001b[0m\u001b[0;32m      4\u001b[0m \u001b[0mprint\u001b[0m\u001b[1;33m(\u001b[0m\u001b[0ms\u001b[0m\u001b[1;33m[\u001b[0m\u001b[1;33m-\u001b[0m\u001b[1;36m100\u001b[0m\u001b[1;33m,\u001b[0m \u001b[1;36m100\u001b[0m\u001b[1;33m]\u001b[0m\u001b[1;33m)\u001b[0m\u001b[1;33m\u001b[0m\u001b[1;33m\u001b[0m\u001b[0m\n",
      "\u001b[1;31mIndexError\u001b[0m: string index out of range"
     ]
    }
   ],
   "source": [
    "s = \"python\"\n",
    "print(s[0], s[0][0], s[0][0][0])\n",
    "print(s[-100], s[100])"
   ]
  },
  {
   "cell_type": "markdown",
   "id": "4941e1bb",
   "metadata": {},
   "source": [
    "1. s[0], s[0][0], s[0][0][0] 모두 문자열의 첫번째 원소를 가리키기 때문에 모두 \"Python\"에서 P를 출력하게 된다.\n",
    "문자열이 1차배열일때 x축 말고 y 혹은 z축에 0대신 다른 수를 집어넣게 되면 오류가 뜬다.\n",
    "\n",
    "2. 문자열의 인덱스가 0-5까지 존재하는데, s[-100]과 s[100]의 경우에는 인덱스 -100과 100은 문자열의 인덱스 범위를 벗어나기 때문에 오류가 난다."
   ]
  },
  {
   "cell_type": "code",
   "execution_count": 40,
   "id": "7075a2e2",
   "metadata": {},
   "outputs": [
    {
     "ename": "TypeError",
     "evalue": "string indices must be integers",
     "output_type": "error",
     "traceback": [
      "\u001b[1;31m---------------------------------------------------------------------------\u001b[0m",
      "\u001b[1;31mTypeError\u001b[0m                                 Traceback (most recent call last)",
      "\u001b[1;32m<ipython-input-40-c5bf044844a8>\u001b[0m in \u001b[0;36m<module>\u001b[1;34m\u001b[0m\n\u001b[0;32m      1\u001b[0m \u001b[0ms\u001b[0m \u001b[1;33m=\u001b[0m \u001b[1;34m\"python\"\u001b[0m\u001b[1;33m\u001b[0m\u001b[1;33m\u001b[0m\u001b[0m\n\u001b[1;32m----> 2\u001b[1;33m \u001b[0mprint\u001b[0m\u001b[1;33m(\u001b[0m\u001b[0ms\u001b[0m\u001b[1;33m[\u001b[0m\u001b[1;33m-\u001b[0m\u001b[1;36m100\u001b[0m\u001b[1;33m,\u001b[0m \u001b[1;36m100\u001b[0m\u001b[1;33m]\u001b[0m\u001b[1;33m)\u001b[0m\u001b[1;33m\u001b[0m\u001b[1;33m\u001b[0m\u001b[0m\n\u001b[0m",
      "\u001b[1;31mTypeError\u001b[0m: string indices must be integers"
     ]
    }
   ],
   "source": [
    "s = \"python\"\n",
    "print(s[-100, 100])"
   ]
  },
  {
   "cell_type": "markdown",
   "id": "d46832cc",
   "metadata": {},
   "source": [
    "s[-100, 100]은 인덱스에 정수형이 두개가 들어가있으므로 값을 나타낼 수 없다."
   ]
  },
  {
   "cell_type": "code",
   "execution_count": 28,
   "id": "f1d5c7b7",
   "metadata": {},
   "outputs": [
    {
     "name": "stdout",
     "output_type": "stream",
     "text": [
      "ytho\n",
      "\n"
     ]
    }
   ],
   "source": [
    "s = \"python\"\n",
    "print(s[1:-1]) \n",
    "\n",
    "print(s[3:-3])"
   ]
  },
  {
   "cell_type": "markdown",
   "id": "983d1eec",
   "metadata": {},
   "source": [
    "1. 문자열 슬라이싱을 활용해 인덱스 1부터 -1 전까지 나타내라는 것인데, 인덱스 1은 y를 나타내고 인덱스 -1은 n을 나타낸다. 그러므로 y부터 인덱스 -2가 가리키는 o까지 출력된다. (= ytho)\n",
    "\n",
    "2. 문자열 슬라이싱을 활용해 인덱스 3부터 -3 전까지 나타내라는 것인데, 인덱스 3과 -3 모두 'h'를 가리키기 때문에 아무 값도 출력이 되지 않는다."
   ]
  },
  {
   "cell_type": "code",
   "execution_count": 45,
   "id": "1261642f",
   "metadata": {},
   "outputs": [
    {
     "name": "stdout",
     "output_type": "stream",
     "text": [
      "1 3 5 7 9 11 13 15 17 19 21 23 25 27 29 31 33 35 37 39 41 43 45 47 49 51 53 55 57 59 61 63 65 67 69 71 73 75 77 79 81 83 85 87 89 91 93 95 97 99 "
     ]
    }
   ],
   "source": [
    "for i in range (1, 101, 2) : \n",
    "    print(i, end = ' ')"
   ]
  },
  {
   "cell_type": "markdown",
   "id": "49e01b2b",
   "metadata": {},
   "source": [
    "홀수만 나타내기 위해서 for 변수 in range를 사용했고 1부터 99까지의 숫자 중 홀수만 출력하기 위해서 간격을 2로 설정하였다. \n",
    "for i(변수) in range(1 = 시작값, 101 = 100을 반복문의 종료값으로 설정, 2 = 간격) 을 나타낸다."
   ]
  },
  {
   "cell_type": "code",
   "execution_count": 35,
   "id": "59d7baee",
   "metadata": {},
   "outputs": [
    {
     "name": "stdout",
     "output_type": "stream",
     "text": [
      "2550\n"
     ]
    }
   ],
   "source": [
    "sum = 0\n",
    "a = 0\n",
    "while a < 101:\n",
    "    sum += a\n",
    "    a = a+2\n",
    "print(sum)"
   ]
  },
  {
   "cell_type": "markdown",
   "id": "7a229b61",
   "metadata": {},
   "source": [
    "총합을 나타낼 변수 sum과 시작값 a를 0으로 초기화 한다.\n",
    "a가 100을 넘어선 101 이상의 숫자이기 전까지 whlie문을 반복한다.\n",
    "a의 값을 sum에 더한 뒤 짝수를 나타내기 위해 a에 2를 더해준 뒤 다시 조건식에 맞게 반복을 진행한다.\n",
    "whlie문을 빠져나오면 sum의 값을 출력한다."
   ]
  },
  {
   "cell_type": "code",
   "execution_count": 6,
   "id": "8a695db1",
   "metadata": {},
   "outputs": [
    {
     "name": "stdout",
     "output_type": "stream",
     "text": [
      "정수를 입력하세요 : 3025\n"
     ]
    },
    {
     "data": {
      "text/plain": [
       "'5203'"
      ]
     },
     "execution_count": 6,
     "metadata": {},
     "output_type": "execute_result"
    }
   ],
   "source": [
    "# ver1.\n",
    "a = input(\"정수를 입력하세요 : \")\n",
    "a = list(a)\n",
    "a.reverse()\n",
    "''.join(map(str, a))"
   ]
  },
  {
   "cell_type": "markdown",
   "id": "784a89a1",
   "metadata": {},
   "source": [
    "변수를 문자열로 a에 저장한 뒤 리스트로 변환한다.\n",
    "reverse()를 사용하여 리스트의 값을 역수로 저장하고 리스트를 다시 문자열로 나타낸다."
   ]
  },
  {
   "cell_type": "code",
   "execution_count": 47,
   "id": "44946710",
   "metadata": {},
   "outputs": [
    {
     "name": "stdout",
     "output_type": "stream",
     "text": [
      "정수를 입력하세요 : 3025\n",
      "5203\n"
     ]
    }
   ],
   "source": [
    "# ver2.\n",
    "a = input(\"정수를 입력하세요 : \")\n",
    "a_reverse = ''\n",
    "for i in a :\n",
    "    a_reverse = i + a_reverse \n",
    "    \n",
    "print(a_reverse)"
   ]
  },
  {
   "cell_type": "markdown",
   "id": "5314e202",
   "metadata": {},
   "source": [
    "변수를 문자열로 a에 저장한 뒤 a를 역수로 저장할 변수 a_reverse도 빈 문자열로 초기화한다.\n",
    "반복문을 통해 a의 문자열 값이 차레대로 뒤로 오도록 a_reverse에 저장한다."
   ]
  },
  {
   "cell_type": "code",
   "execution_count": 3,
   "id": "53ed24a9",
   "metadata": {},
   "outputs": [
    {
     "name": "stdout",
     "output_type": "stream",
     "text": [
      "정수를 입력하세요 : 101\n",
      "2 3 5 7 11 13 17 19 23 29 31 37 41 43 47 53 59 61 67 71 73 79 83 89 97 101 "
     ]
    }
   ],
   "source": [
    "a = int(input(\"정수를 입력하세요 : \"))\n",
    "for i in range(2, a+1):\n",
    "    prime = True\n",
    "    for j in range(2, i) :\n",
    "        if i % j == 0 :\n",
    "            prime = False\n",
    "            break\n",
    "    if prime :\n",
    "         print(i, end=' ')"
   ]
  },
  {
   "cell_type": "markdown",
   "id": "d3942990",
   "metadata": {},
   "source": [
    "변수 a를 정수형으로 저장한 뒤 2부터 a까지 반복문을 실행한다.\n",
    "소수인지 검사해줄 prime 값을 Ture로 설정한 뒤 2부터 i까지 반복하면서 i가 j로 나누어지는지 확인한다.\n",
    "만일 i가 j로 나누어지면 i는 약수가 있기 때문에 소수가 아니다.\n",
    "prime을 False로 바꾸어 준뒤 반복문을 빠져나간다.\n",
    "만일 prime이 Ture라면 소수이기 때문에 수를 출력한다."
   ]
  },
  {
   "cell_type": "code",
   "execution_count": null,
   "id": "f16a1a4e",
   "metadata": {},
   "outputs": [],
   "source": [
    "s = 'BANANA'\n",
    "s = list(s)\n",
    "vowels_list = ['a', 'e', 'i', 'o', 'u']\n",
    "Stuart_Score = 0\n",
    "Kevin_Score = 0\n",
    "\n",
    "def Stuart_turn():\n",
    "    \n",
    "    while True :\n",
    "        \n",
    "        check = True\n",
    "        Stuart = input(\"문자를 만드시오 (Stuart's Turn) : \")\n",
    "        list(Stuart)\n",
    "        for i in vowels_list :\n",
    "            if Stuart[0] == vowels_list(i) :\n",
    "                check = False\n",
    "            else :\n",
    "                check = True\n",
    "        for j in s : \n",
    "            for k in Stuart :\n",
    "                if s[i] == Stuart[j] :\n",
    "                    check = True\n",
    "                else :\n",
    "                    check = False\n",
    "                \n",
    "        if check == True : \n",
    "            Stuart_Score += 1\n",
    "        else :\n",
    "            print(\"다시 만드세요.\")\n",
    "            continue\n",
    "            \n",
    "        End = int(input(\"문자를 다 만드셨나요? :  (0 : 종료 1 : 계속)\" ))\n",
    "        if End == 1 :\n",
    "            return Stuart_Score\n",
    "        \n",
    "\n",
    "        \n",
    "print(\"사용할 단어 : BANANA\")\n",
    "Stuart_Turn()\n",
    "\n",
    "print(\"Stuart's Score : \", Stuart_Score)\n",
    "print(\"Kevin's Score : \", Kevin_Score)"
   ]
  },
  {
   "cell_type": "markdown",
   "id": "71a9f855",
   "metadata": {},
   "source": [
    "문제 9번은 해결하지 못하였습니다."
   ]
  },
  {
   "cell_type": "code",
   "execution_count": null,
   "id": "7d3515ac",
   "metadata": {},
   "outputs": [],
   "source": [
    "#hackerhappy ver.\n",
    "def appendDelete(s, t, k) :\n",
    "    sum = 0\n",
    "    add = 0\n",
    "    while True :\n",
    "        s = s[:-1]\n",
    "        sum = sum+1\n",
    "        add = add+1\n",
    "        if s == 'hacker':\n",
    "             break\n",
    "       \n",
    "    s_list = s.split()\n",
    "\n",
    "    for j in range(k-sum) :\n",
    "        sum = sum+1\n",
    "        s_list.insert(1+j,t[add+1+j])\n",
    "\n",
    "    final_s = ''.join(s_list)\n",
    "\n",
    "    print(\"변경된 s의 값 : \", final_s)\n",
    "    print(\"반복 총합 : \", sum)\n",
    "    \n",
    "    if sum <= k :\n",
    "        return 'Yes'\n",
    "    else :\n",
    "        return 'No'\n",
    "\n",
    "appendDelete('hackerhappy','hackerrank',9)"
   ]
  },
  {
   "cell_type": "markdown",
   "id": "c92da05a",
   "metadata": {},
   "source": [
    "appendDelete(s, t, k) 함수 \n",
    "1) s 문자열을 t로 몇번만에 변경하였는지 나타낼 sum과 문자를 추가하기 위해 필요한 add를 0으로 초기화한다.\n",
    "2) s 문자열에서 가장 뒷부분에 존재하는 문자를 지우기 위해 인덱스 슬라이싱을 사용하였다. (문자열 s가 ash와 같아지면 반복문을 빠져나온다.) - 또한, 이 반복문에서 몇번 반복했는지를 add와 sum에 저장한다.\n",
    "3) k 값에서 sum 값을 뺀 만큼 문자를 추가할 때 반복한다.\n",
    "4) 문자를 추가하기 위해서 split()을 사용해 list로 바꾸어준다\n",
    "5) 리스트의 insert() 함수를 사용하여 1+j 요소에 t[add+1+j]에 수를 삽입하도록 하고 반복된만큼 sum의 수를 증가시킨다. \n",
    "6) 그 후 리스트를 다시 문자열로 바꾸어 준다.\n",
    "7) sum과 k가 같거나 sum이 작다면 Yes를 반환하고 그렇지 않으면 No를 반환한다.\n",
    "\n",
    "*** s와 t의 문자열을 비교하는 연산\n",
    "    'hacker'을 쓰지 않고 두 문자열에서 겹치는 요소 \n",
    "    s에 요소를 추가할 때 반복문을 더 간결하게 작성하는 법\n",
    "이 부분은 해결하지 못하였습니다."
   ]
  },
  {
   "cell_type": "markdown",
   "id": "894ad5ae",
   "metadata": {},
   "source": [
    "느낀점 : 파이썬의 문자열, 리스트에 대해 제대로 공부할 수 있었고 문제들을 풀면서 어떻게 알고리즘을 짜야하는지 생각도 많이 해보았다.\n",
    "비록 9-10번 문제는 완벽하게 해결하지 못하여서 아쉽지만, 나중에 파이썬을 더 공부하고 나서 다시 한 번 풀어봐야겠다는 생각이 들었다."
   ]
  }
 ],
 "metadata": {
  "kernelspec": {
   "display_name": "Python 3",
   "language": "python",
   "name": "python3"
  },
  "language_info": {
   "codemirror_mode": {
    "name": "ipython",
    "version": 3
   },
   "file_extension": ".py",
   "mimetype": "text/x-python",
   "name": "python",
   "nbconvert_exporter": "python",
   "pygments_lexer": "ipython3",
   "version": "3.8.8"
  }
 },
 "nbformat": 4,
 "nbformat_minor": 5
}
